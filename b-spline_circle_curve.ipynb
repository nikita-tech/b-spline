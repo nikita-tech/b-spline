{
 "cells": [
  {
   "cell_type": "code",
   "execution_count": 17,
   "metadata": {},
   "outputs": [
    {
     "data": {
      "image/png": "[encoded data removed]",
      "text/plain": [
       "<matplotlib.figure.Figure at 0x7f23e7a50940>"
      ]
     },
     "metadata": {
      "needs_background": "light"
     },
     "output_type": "display_data"
    }
   ],
   "source": [
    "import numpy as np\n",
    "from scipy import interpolate\n",
    "import matplotlib.pyplot as plt\n",
    "\n",
    "N = 7\n",
    "noise = np.random.random((N,2))\n",
    "noise = np.vstack(((0,0), noise, (0,0)))\n",
    "ctr = np.array([(3 , -2), (2.5, 4), (0, 5), (-2.5, 4), (-3, 0), (-2.5, -4), (0, -5), (2.5, -4), (3,1)]) +noise\n",
    "\n",
    "x=ctr[:,0]\n",
    "y=ctr[:,1]\n",
    "\n",
    "# uncomment both lines for a closed curve\n",
    "#x=np.append(x,[x[0]])  \n",
    "#y=np.append(y,[y[0]])\n",
    "\n",
    "l=len(x)  \n",
    "\n",
    "t=np.linspace(0,1,l-2,endpoint=True)\n",
    "t=np.append([0,0,0],t)\n",
    "t=np.append(t,[1,1,1])\n",
    "\n",
    "tck=[t,[x,y],3]\n",
    "u3=np.linspace(0,1,(max(l*2,70)),endpoint=True)\n",
    "out = interpolate.splev(u3,tck)\n",
    "\n",
    "#plt.plot(x,y,'k--',label='Control polygon',marker='o',markerfacecolor='red')\n",
    "#plt.plot(x,y,'ro',label='Control points only')\n",
    "plt.plot(out[0],out[1],'b',linewidth=2.0,label='B-spline curve')\n",
    "#plt.legend(loc='best')\n",
    "#plt.axis([min(x)-1, max(x)+1, min(y)-1, max(y)+1])\n",
    "#plt.title('Cubic B-spline curve evaluation')\n",
    "plt.axis('off')\n",
    "plt.show()"
   ]
  }
 ],
 "metadata": {
  "kernelspec": {
   "display_name": "Python 3",
   "language": "python",
   "name": "python3"
  },
  "language_info": {
   "codemirror_mode": {
    "name": "ipython",
    "version": 3
   },
   "file_extension": ".py",
   "mimetype": "text/x-python",
   "name": "python",
   "nbconvert_exporter": "python",
   "pygments_lexer": "ipython3",
   "version": "3.6.9"
  }
 },
 "nbformat": 4,
 "nbformat_minor": 2
}
